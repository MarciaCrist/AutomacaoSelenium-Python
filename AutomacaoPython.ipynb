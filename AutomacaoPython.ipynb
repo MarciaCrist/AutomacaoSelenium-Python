{
 "cells": [
  {
   "cell_type": "code",
   "execution_count": 1,
   "id": "51e82685",
   "metadata": {
    "scrolled": true
   },
   "outputs": [],
   "source": [
    "from selenium import webdriver\n",
    "from webdriver_manager.chrome import ChromeDriverManager\n",
    "from selenium.webdriver.chrome.service import Service\n",
    "from selenium.webdriver.common.keys import Keys\n",
    "\n",
    "\n",
    "servico = Service(ChromeDriverManager().install())\n",
    "\n",
    "navegador = webdriver.Chrome(service=servico)\n",
    "\n",
    "\n"
   ]
  },
  {
   "cell_type": "code",
   "execution_count": 2,
   "id": "53f2524c",
   "metadata": {
    "scrolled": false
   },
   "outputs": [],
   "source": [
    "navegador.get(\"https://www.google.com/\")\n",
    "\n",
    "navegador.maximize_window()\n",
    "navegador.find_element('xpath',\n",
    "                       '/html/body/div[1]/div[3]/form/div[1]/div[1]/div[1]/div/div[2]/input').send_keys(\"Concert Technologies\")\n",
    "\n",
    "navegador.find_element('xpath','/html/body/div[1]/div[3]/form/div[1]/div[1]/div[4]/center/input[1]').click()\n",
    "\n",
    "navegador.find_element('xpath',\n",
    "                       '//*[@id=\"rso\"]/div[1]/div/div/div/div[1]/div/a/h3').click()\n",
    "navegador.back()\n",
    "\n",
    "\n",
    "navegador.find_element('xpath',\n",
    "                       '//*[@id=\"hdtb-msb\"]/div[1]/div/div[4]/a').click()\n",
    "navegador.back()\n",
    "\n",
    "navegador.find_element('xpath','//*[@id=\"gb\"]/div/div[1]/a').click()\n",
    "\n",
    "navegador.find_element('xpath','//*[@id=\"identifierId\"]').send_keys(\"passeinoestagio@gmail.com\")\n",
    "\n",
    "\n",
    "navegador.find_element('xpath','//*[@id=\"identifierNext\"]/div/button/span').click()\n",
    "navegador.back()\n"
   ]
  }
 ],
 "metadata": {
  "kernelspec": {
   "display_name": "Python 3 (ipykernel)",
   "language": "python",
   "name": "python3"
  },
  "language_info": {
   "codemirror_mode": {
    "name": "ipython",
    "version": 3
   },
   "file_extension": ".py",
   "mimetype": "text/x-python",
   "name": "python",
   "nbconvert_exporter": "python",
   "pygments_lexer": "ipython3",
   "version": "3.9.13"
  }
 },
 "nbformat": 4,
 "nbformat_minor": 5
}
